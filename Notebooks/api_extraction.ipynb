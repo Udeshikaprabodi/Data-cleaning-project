{
 "cells": [
  {
   "cell_type": "markdown",
   "metadata": {},
   "source": [
    "Import Libraries"
   ]
  },
  {
   "cell_type": "code",
   "execution_count": 1,
   "metadata": {},
   "outputs": [],
   "source": [
    "import requests\n",
    "import pandas as pd\n",
    "from datetime import datetime\n",
    "import mysql.connector"
   ]
  },
  {
   "cell_type": "markdown",
   "metadata": {},
   "source": [
    "Fetch Data from API"
   ]
  },
  {
   "cell_type": "code",
   "execution_count": 2,
   "metadata": {},
   "outputs": [],
   "source": [
    "api_url = \"https://fakestoreapi.com/products\""
   ]
  },
  {
   "cell_type": "code",
   "execution_count": 3,
   "metadata": {},
   "outputs": [],
   "source": [
    "response = requests.get(api_url)"
   ]
  },
  {
   "cell_type": "code",
   "execution_count": 4,
   "metadata": {},
   "outputs": [
    {
     "name": "stdout",
     "output_type": "stream",
     "text": [
      "Data fetched successfully!\n"
     ]
    }
   ],
   "source": [
    "if response.status_code == 200:\n",
    "    data = response.json()\n",
    "    print(\"Data fetched successfully!\")\n",
    "else:\n",
    "    print(\"Failed to fetch data:\", response.status_code)"
   ]
  },
  {
   "cell_type": "markdown",
   "metadata": {},
   "source": [
    "Data Analysing"
   ]
  },
  {
   "cell_type": "code",
   "execution_count": 5,
   "metadata": {},
   "outputs": [],
   "source": [
    "df = pd.DataFrame(data)"
   ]
  },
  {
   "cell_type": "code",
   "execution_count": 6,
   "metadata": {},
   "outputs": [
    {
     "name": "stdout",
     "output_type": "stream",
     "text": [
      "   id                                              title   price  \\\n",
      "0   1  Fjallraven - Foldsack No. 1 Backpack, Fits 15 ...  109.95   \n",
      "1   2             Mens Casual Premium Slim Fit T-Shirts    22.30   \n",
      "2   3                                 Mens Cotton Jacket   55.99   \n",
      "3   4                               Mens Casual Slim Fit   15.99   \n",
      "4   5  John Hardy Women's Legends Naga Gold & Silver ...  695.00   \n",
      "\n",
      "                                         description        category  \\\n",
      "0  Your perfect pack for everyday use and walks i...  men's clothing   \n",
      "1  Slim-fitting style, contrast raglan long sleev...  men's clothing   \n",
      "2  great outerwear jackets for Spring/Autumn/Wint...  men's clothing   \n",
      "3  The color could be slightly different between ...  men's clothing   \n",
      "4  From our Legends Collection, the Naga was insp...        jewelery   \n",
      "\n",
      "                                               image  \\\n",
      "0  https://fakestoreapi.com/img/81fPKd-2AYL._AC_S...   \n",
      "1  https://fakestoreapi.com/img/71-3HjGNDUL._AC_S...   \n",
      "2  https://fakestoreapi.com/img/71li-ujtlUL._AC_U...   \n",
      "3  https://fakestoreapi.com/img/71YXzeOuslL._AC_U...   \n",
      "4  https://fakestoreapi.com/img/71pWzhdJNwL._AC_U...   \n",
      "\n",
      "                        rating  \n",
      "0  {'rate': 3.9, 'count': 120}  \n",
      "1  {'rate': 4.1, 'count': 259}  \n",
      "2  {'rate': 4.7, 'count': 500}  \n",
      "3  {'rate': 2.1, 'count': 430}  \n",
      "4  {'rate': 4.6, 'count': 400}  \n"
     ]
    }
   ],
   "source": [
    "print(df.head())"
   ]
  },
  {
   "cell_type": "code",
   "execution_count": 10,
   "metadata": {},
   "outputs": [
    {
     "name": "stdout",
     "output_type": "stream",
     "text": [
      "    id                                              title  price  \\\n",
      "15  16  Lock and Love Women's Removable Hooded Faux Le...  29.95   \n",
      "16  17  Rain Jacket Women Windbreaker Striped Climbing...  39.99   \n",
      "17  18        MBJ Women's Solid Short Sleeve Boat Neck V    9.85   \n",
      "18  19                 Opna Women's Short Sleeve Moisture   7.95   \n",
      "19  20         DANVOUY Womens T Shirt Casual Cotton Short  12.99   \n",
      "\n",
      "                                          description          category  \\\n",
      "15  100% POLYURETHANE(shell) 100% POLYESTER(lining...  women's clothing   \n",
      "16  Lightweight perfet for trip or casual wear---L...  women's clothing   \n",
      "17  95% RAYON 5% SPANDEX, Made in USA or Imported,...  women's clothing   \n",
      "18  100% Polyester, Machine wash, 100% cationic po...  women's clothing   \n",
      "19  95%Cotton,5%Spandex, Features: Casual, Short S...  women's clothing   \n",
      "\n",
      "                                                image  \\\n",
      "15  https://fakestoreapi.com/img/81XH0e8fefL._AC_U...   \n",
      "16  https://fakestoreapi.com/img/71HblAHs5xL._AC_U...   \n",
      "17  https://fakestoreapi.com/img/71z3kpMAYsL._AC_U...   \n",
      "18  https://fakestoreapi.com/img/51eg55uWmdL._AC_U...   \n",
      "19  https://fakestoreapi.com/img/61pHAEJ4NML._AC_U...   \n",
      "\n",
      "                         rating  \n",
      "15  {'rate': 2.9, 'count': 340}  \n",
      "16  {'rate': 3.8, 'count': 679}  \n",
      "17  {'rate': 4.7, 'count': 130}  \n",
      "18  {'rate': 4.5, 'count': 146}  \n",
      "19  {'rate': 3.6, 'count': 145}  \n"
     ]
    }
   ],
   "source": [
    "print(df.tail())"
   ]
  },
  {
   "cell_type": "code",
   "execution_count": 11,
   "metadata": {},
   "outputs": [
    {
     "name": "stdout",
     "output_type": "stream",
     "text": [
      "Index(['id', 'title', 'price', 'description', 'category', 'image', 'rating'], dtype='object')\n"
     ]
    }
   ],
   "source": [
    "print(df.columns)"
   ]
  },
  {
   "cell_type": "code",
   "execution_count": 12,
   "metadata": {},
   "outputs": [
    {
     "name": "stdout",
     "output_type": "stream",
     "text": [
      "<bound method DataFrame.info of     id                                              title   price  \\\n",
      "0    1  Fjallraven - Foldsack No. 1 Backpack, Fits 15 ...  109.95   \n",
      "1    2             Mens Casual Premium Slim Fit T-Shirts    22.30   \n",
      "2    3                                 Mens Cotton Jacket   55.99   \n",
      "3    4                               Mens Casual Slim Fit   15.99   \n",
      "4    5  John Hardy Women's Legends Naga Gold & Silver ...  695.00   \n",
      "5    6                       Solid Gold Petite Micropave   168.00   \n",
      "6    7                         White Gold Plated Princess    9.99   \n",
      "7    8  Pierced Owl Rose Gold Plated Stainless Steel D...   10.99   \n",
      "8    9  WD 2TB Elements Portable External Hard Drive -...   64.00   \n",
      "9   10  SanDisk SSD PLUS 1TB Internal SSD - SATA III 6...  109.00   \n",
      "10  11  Silicon Power 256GB SSD 3D NAND A55 SLC Cache ...  109.00   \n",
      "11  12  WD 4TB Gaming Drive Works with Playstation 4 P...  114.00   \n",
      "12  13  Acer SB220Q bi 21.5 inches Full HD (1920 x 108...  599.00   \n",
      "13  14  Samsung 49-Inch CHG90 144Hz Curved Gaming Moni...  999.99   \n",
      "14  15  BIYLACLESEN Women's 3-in-1 Snowboard Jacket Wi...   56.99   \n",
      "15  16  Lock and Love Women's Removable Hooded Faux Le...   29.95   \n",
      "16  17  Rain Jacket Women Windbreaker Striped Climbing...   39.99   \n",
      "17  18        MBJ Women's Solid Short Sleeve Boat Neck V     9.85   \n",
      "18  19                 Opna Women's Short Sleeve Moisture    7.95   \n",
      "19  20         DANVOUY Womens T Shirt Casual Cotton Short   12.99   \n",
      "\n",
      "                                          description          category  \\\n",
      "0   Your perfect pack for everyday use and walks i...    men's clothing   \n",
      "1   Slim-fitting style, contrast raglan long sleev...    men's clothing   \n",
      "2   great outerwear jackets for Spring/Autumn/Wint...    men's clothing   \n",
      "3   The color could be slightly different between ...    men's clothing   \n",
      "4   From our Legends Collection, the Naga was insp...          jewelery   \n",
      "5   Satisfaction Guaranteed. Return or exchange an...          jewelery   \n",
      "6   Classic Created Wedding Engagement Solitaire D...          jewelery   \n",
      "7   Rose Gold Plated Double Flared Tunnel Plug Ear...          jewelery   \n",
      "8   USB 3.0 and USB 2.0 Compatibility Fast data tr...       electronics   \n",
      "9   Easy upgrade for faster boot up, shutdown, app...       electronics   \n",
      "10  3D NAND flash are applied to deliver high tran...       electronics   \n",
      "11  Expand your PS4 gaming experience, Play anywhe...       electronics   \n",
      "12  21. 5 inches Full HD (1920 x 1080) widescreen ...       electronics   \n",
      "13  49 INCH SUPER ULTRAWIDE 32:9 CURVED GAMING MON...       electronics   \n",
      "14  Note:The Jackets is US standard size, Please c...  women's clothing   \n",
      "15  100% POLYURETHANE(shell) 100% POLYESTER(lining...  women's clothing   \n",
      "16  Lightweight perfet for trip or casual wear---L...  women's clothing   \n",
      "17  95% RAYON 5% SPANDEX, Made in USA or Imported,...  women's clothing   \n",
      "18  100% Polyester, Machine wash, 100% cationic po...  women's clothing   \n",
      "19  95%Cotton,5%Spandex, Features: Casual, Short S...  women's clothing   \n",
      "\n",
      "                                                image  \\\n",
      "0   https://fakestoreapi.com/img/81fPKd-2AYL._AC_S...   \n",
      "1   https://fakestoreapi.com/img/71-3HjGNDUL._AC_S...   \n",
      "2   https://fakestoreapi.com/img/71li-ujtlUL._AC_U...   \n",
      "3   https://fakestoreapi.com/img/71YXzeOuslL._AC_U...   \n",
      "4   https://fakestoreapi.com/img/71pWzhdJNwL._AC_U...   \n",
      "5   https://fakestoreapi.com/img/61sbMiUnoGL._AC_U...   \n",
      "6   https://fakestoreapi.com/img/71YAIFU48IL._AC_U...   \n",
      "7   https://fakestoreapi.com/img/51UDEzMJVpL._AC_U...   \n",
      "8   https://fakestoreapi.com/img/61IBBVJvSDL._AC_S...   \n",
      "9   https://fakestoreapi.com/img/61U7T1koQqL._AC_S...   \n",
      "10  https://fakestoreapi.com/img/71kWymZ+c+L._AC_S...   \n",
      "11  https://fakestoreapi.com/img/61mtL65D4cL._AC_S...   \n",
      "12  https://fakestoreapi.com/img/81QpkIctqPL._AC_S...   \n",
      "13  https://fakestoreapi.com/img/81Zt42ioCgL._AC_S...   \n",
      "14  https://fakestoreapi.com/img/51Y5NI-I5jL._AC_U...   \n",
      "15  https://fakestoreapi.com/img/81XH0e8fefL._AC_U...   \n",
      "16  https://fakestoreapi.com/img/71HblAHs5xL._AC_U...   \n",
      "17  https://fakestoreapi.com/img/71z3kpMAYsL._AC_U...   \n",
      "18  https://fakestoreapi.com/img/51eg55uWmdL._AC_U...   \n",
      "19  https://fakestoreapi.com/img/61pHAEJ4NML._AC_U...   \n",
      "\n",
      "                         rating  \n",
      "0   {'rate': 3.9, 'count': 120}  \n",
      "1   {'rate': 4.1, 'count': 259}  \n",
      "2   {'rate': 4.7, 'count': 500}  \n",
      "3   {'rate': 2.1, 'count': 430}  \n",
      "4   {'rate': 4.6, 'count': 400}  \n",
      "5    {'rate': 3.9, 'count': 70}  \n",
      "6     {'rate': 3, 'count': 400}  \n",
      "7   {'rate': 1.9, 'count': 100}  \n",
      "8   {'rate': 3.3, 'count': 203}  \n",
      "9   {'rate': 2.9, 'count': 470}  \n",
      "10  {'rate': 4.8, 'count': 319}  \n",
      "11  {'rate': 4.8, 'count': 400}  \n",
      "12  {'rate': 2.9, 'count': 250}  \n",
      "13  {'rate': 2.2, 'count': 140}  \n",
      "14  {'rate': 2.6, 'count': 235}  \n",
      "15  {'rate': 2.9, 'count': 340}  \n",
      "16  {'rate': 3.8, 'count': 679}  \n",
      "17  {'rate': 4.7, 'count': 130}  \n",
      "18  {'rate': 4.5, 'count': 146}  \n",
      "19  {'rate': 3.6, 'count': 145}  >\n"
     ]
    }
   ],
   "source": [
    "print(df.info)"
   ]
  },
  {
   "cell_type": "code",
   "execution_count": 13,
   "metadata": {},
   "outputs": [
    {
     "name": "stdout",
     "output_type": "stream",
     "text": [
      "<class 'pandas.core.frame.DataFrame'>\n",
      "RangeIndex: 20 entries, 0 to 19\n",
      "Data columns (total 7 columns):\n",
      " #   Column       Non-Null Count  Dtype  \n",
      "---  ------       --------------  -----  \n",
      " 0   id           20 non-null     int64  \n",
      " 1   title        20 non-null     object \n",
      " 2   price        20 non-null     float64\n",
      " 3   description  20 non-null     object \n",
      " 4   category     20 non-null     object \n",
      " 5   image        20 non-null     object \n",
      " 6   rating       20 non-null     object \n",
      "dtypes: float64(1), int64(1), object(5)\n",
      "memory usage: 1.2+ KB\n",
      "None\n"
     ]
    }
   ],
   "source": [
    "print(df.info())"
   ]
  }
 ],
 "metadata": {
  "kernelspec": {
   "display_name": "etl_jupyter_notebook",
   "language": "python",
   "name": "python3"
  },
  "language_info": {
   "codemirror_mode": {
    "name": "ipython",
    "version": 3
   },
   "file_extension": ".py",
   "mimetype": "text/x-python",
   "name": "python",
   "nbconvert_exporter": "python",
   "pygments_lexer": "ipython3",
   "version": "3.12.7"
  }
 },
 "nbformat": 4,
 "nbformat_minor": 2
}
