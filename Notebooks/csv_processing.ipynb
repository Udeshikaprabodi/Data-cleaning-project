{
 "cells": [
  {
   "cell_type": "markdown",
   "metadata": {},
   "source": [
    "Import necessary libraries"
   ]
  },
  {
   "cell_type": "code",
   "execution_count": 2,
   "metadata": {},
   "outputs": [],
   "source": [
    "import pandas as pd"
   ]
  },
  {
   "cell_type": "markdown",
   "metadata": {},
   "source": [
    "Read the CSV file"
   ]
  },
  {
   "cell_type": "code",
   "execution_count": 3,
   "metadata": {},
   "outputs": [],
   "source": [
    "df = pd.read_csv('../zara.csv',sep=';')"
   ]
  },
  {
   "cell_type": "markdown",
   "metadata": {},
   "source": [
    "Analysing Data"
   ]
  },
  {
   "cell_type": "code",
   "execution_count": 4,
   "metadata": {},
   "outputs": [
    {
     "name": "stdout",
     "output_type": "stream",
     "text": [
      "   Product ID Product Position Promotion Product Category Seasonal  \\\n",
      "0      185102            Aisle        No         Clothing       No   \n",
      "1      188771            Aisle        No         Clothing       No   \n",
      "2      180176          End-cap       Yes         Clothing      Yes   \n",
      "3      112917            Aisle       Yes         Clothing      Yes   \n",
      "4      192936          End-cap        No         Clothing      Yes   \n",
      "\n",
      "   Sales Volume brand                                                url  \\\n",
      "0          2823  Zara  https://www.zara.com/us/en/basic-puffer-jacket...   \n",
      "1           654  Zara  https://www.zara.com/us/en/tuxedo-jacket-p0889...   \n",
      "2          2220  Zara  https://www.zara.com/us/en/slim-fit-suit-jacke...   \n",
      "3          1568  Zara  https://www.zara.com/us/en/stretch-suit-jacket...   \n",
      "4          2942  Zara  https://www.zara.com/us/en/double-faced-jacket...   \n",
      "\n",
      "                sku                  name  \\\n",
      "0   272145190-250-2   BASIC PUFFER JACKET   \n",
      "1  324052738-800-46         TUXEDO JACKET   \n",
      "2  335342680-800-44  SLIM FIT SUIT JACKET   \n",
      "3  328303236-420-44   STRETCH SUIT JACKET   \n",
      "4   312368260-800-2   DOUBLE FACED JACKET   \n",
      "\n",
      "                                         description   price currency  \\\n",
      "0  Puffer jacket made of tear-resistant ripstop f...   19.99      USD   \n",
      "1  Straight fit blazer. Pointed lapel collar and ...  169.00      USD   \n",
      "2  Slim fit jacket. Notched lapel collar. Long sl...  129.00      USD   \n",
      "3  Slim fit jacket made of viscose blend fabric. ...  129.00      USD   \n",
      "4  Jacket made of faux leather faux shearling wit...  139.00      USD   \n",
      "\n",
      "                   scraped_at    terms section  \n",
      "0  2024-02-19T08:50:05.654618  jackets     MAN  \n",
      "1  2024-02-19T08:50:06.590930  jackets     MAN  \n",
      "2  2024-02-19T08:50:07.301419  jackets     MAN  \n",
      "3  2024-02-19T08:50:07.882922  jackets     MAN  \n",
      "4  2024-02-19T08:50:08.453847  jackets     MAN  \n"
     ]
    }
   ],
   "source": [
    "print(df.head())"
   ]
  },
  {
   "cell_type": "code",
   "execution_count": 5,
   "metadata": {},
   "outputs": [
    {
     "name": "stdout",
     "output_type": "stream",
     "text": [
      "     Product ID Product Position Promotion Product Category Seasonal  \\\n",
      "247      159182   Front of Store       Yes         Clothing       No   \n",
      "248      199233            Aisle       Yes         Clothing       No   \n",
      "249      137044            Aisle        No         Clothing      Yes   \n",
      "250      154736   Front of Store       Yes         Clothing      Yes   \n",
      "251      141434   Front of Store        No         Clothing      Yes   \n",
      "\n",
      "     Sales Volume brand                                                url  \\\n",
      "247          1014  Zara  https://www.zara.com/us/en/basic-100-wool-swea...   \n",
      "248          2222  Zara  https://www.zara.com/us/en/colorblock-knit-cro...   \n",
      "249          2534  Zara  https://www.zara.com/us/en/hooded-technical-ja...   \n",
      "250          1466  Zara  https://www.zara.com/us/en/houndstooth-suit-ja...   \n",
      "251          2870  Zara  https://www.zara.com/us/en/bomber-jacket-p0534...   \n",
      "\n",
      "                  sku                                           name  \\\n",
      "247   321993245-500-2  FAUX LEATHER OVERSIZED JACKET LIMITED EDITION   \n",
      "248   330590505-500-2              CONTRASTING PATCHES BOMBER JACKET   \n",
      "249  320680326-107-39                            PATCH BOMBER JACKET   \n",
      "250  311292244-800-39          CROPPED BOMBER JACKET LIMITED EDITION   \n",
      "251  311307610-400-39                     FAUX LEATHER PUFFER JACKET   \n",
      "\n",
      "                                           description   price currency  \\\n",
      "247  Jacket made of technical fabric with padded in...  169.00      USD   \n",
      "248  Oversized jacket. Notched lapel collar and lon...  159.00      USD   \n",
      "249  Varsity jacket with elastic collar and long sl...   12.99      USD   \n",
      "250  Varsity jacket with padded interior. Rib elast...   19.90      USD   \n",
      "251  Jacket with lightly padded interior. Rib colla...   39.90      USD   \n",
      "\n",
      "                     scraped_at    terms section  \n",
      "247  2024-02-19T09:10:43.883037  jackets     MAN  \n",
      "248  2024-02-19T09:10:44.463883  jackets     MAN  \n",
      "249  2024-02-19T09:10:45.009106  jackets     MAN  \n",
      "250  2024-02-19T09:10:45.631804  jackets     MAN  \n",
      "251  2024-02-19T09:10:31.877972  jackets     MAN  \n"
     ]
    }
   ],
   "source": [
    "print(df.tail())"
   ]
  },
  {
   "cell_type": "code",
   "execution_count": 6,
   "metadata": {},
   "outputs": [
    {
     "name": "stdout",
     "output_type": "stream",
     "text": [
      "<class 'pandas.core.frame.DataFrame'>\n",
      "RangeIndex: 252 entries, 0 to 251\n",
      "Data columns (total 16 columns):\n",
      " #   Column            Non-Null Count  Dtype  \n",
      "---  ------            --------------  -----  \n",
      " 0   Product ID        252 non-null    int64  \n",
      " 1   Product Position  252 non-null    object \n",
      " 2   Promotion         252 non-null    object \n",
      " 3   Product Category  252 non-null    object \n",
      " 4   Seasonal          252 non-null    object \n",
      " 5   Sales Volume      252 non-null    int64  \n",
      " 6   brand             252 non-null    object \n",
      " 7   url               252 non-null    object \n",
      " 8   sku               252 non-null    object \n",
      " 9   name              251 non-null    object \n",
      " 10  description       250 non-null    object \n",
      " 11  price             252 non-null    float64\n",
      " 12  currency          252 non-null    object \n",
      " 13  scraped_at        252 non-null    object \n",
      " 14  terms             252 non-null    object \n",
      " 15  section           252 non-null    object \n",
      "dtypes: float64(1), int64(2), object(13)\n",
      "memory usage: 31.6+ KB\n",
      "None\n"
     ]
    }
   ],
   "source": [
    "print(df.info()) "
   ]
  },
  {
   "cell_type": "markdown",
   "metadata": {},
   "source": [
    "Remove unnecessary columns"
   ]
  },
  {
   "cell_type": "code",
   "execution_count": 7,
   "metadata": {},
   "outputs": [],
   "source": [
    "df = df.drop(columns=['Promotion','Product Position','Seasonal','url','sku'])\n"
   ]
  },
  {
   "cell_type": "code",
   "execution_count": 8,
   "metadata": {},
   "outputs": [
    {
     "name": "stdout",
     "output_type": "stream",
     "text": [
      "<class 'pandas.core.frame.DataFrame'>\n",
      "RangeIndex: 252 entries, 0 to 251\n",
      "Data columns (total 11 columns):\n",
      " #   Column            Non-Null Count  Dtype  \n",
      "---  ------            --------------  -----  \n",
      " 0   Product ID        252 non-null    int64  \n",
      " 1   Product Category  252 non-null    object \n",
      " 2   Sales Volume      252 non-null    int64  \n",
      " 3   brand             252 non-null    object \n",
      " 4   name              251 non-null    object \n",
      " 5   description       250 non-null    object \n",
      " 6   price             252 non-null    float64\n",
      " 7   currency          252 non-null    object \n",
      " 8   scraped_at        252 non-null    object \n",
      " 9   terms             252 non-null    object \n",
      " 10  section           252 non-null    object \n",
      "dtypes: float64(1), int64(2), object(8)\n",
      "memory usage: 21.8+ KB\n",
      "None\n"
     ]
    }
   ],
   "source": [
    "print(df.info())"
   ]
  },
  {
   "cell_type": "code",
   "execution_count": 9,
   "metadata": {},
   "outputs": [],
   "source": [
    "df = df.drop(columns=['terms','description','brand'])"
   ]
  },
  {
   "cell_type": "code",
   "execution_count": 10,
   "metadata": {},
   "outputs": [
    {
     "name": "stdout",
     "output_type": "stream",
     "text": [
      "<class 'pandas.core.frame.DataFrame'>\n",
      "RangeIndex: 252 entries, 0 to 251\n",
      "Data columns (total 8 columns):\n",
      " #   Column            Non-Null Count  Dtype  \n",
      "---  ------            --------------  -----  \n",
      " 0   Product ID        252 non-null    int64  \n",
      " 1   Product Category  252 non-null    object \n",
      " 2   Sales Volume      252 non-null    int64  \n",
      " 3   name              251 non-null    object \n",
      " 4   price             252 non-null    float64\n",
      " 5   currency          252 non-null    object \n",
      " 6   scraped_at        252 non-null    object \n",
      " 7   section           252 non-null    object \n",
      "dtypes: float64(1), int64(2), object(5)\n",
      "memory usage: 15.9+ KB\n",
      "None\n"
     ]
    }
   ],
   "source": [
    "print(df.info())"
   ]
  },
  {
   "cell_type": "markdown",
   "metadata": {},
   "source": [
    "Handle Missing Data"
   ]
  },
  {
   "cell_type": "code",
   "execution_count": 11,
   "metadata": {},
   "outputs": [
    {
     "name": "stderr",
     "output_type": "stream",
     "text": [
      "C:\\Users\\User\\AppData\\Local\\Temp\\ipykernel_17876\\2503151943.py:1: FutureWarning: A value is trying to be set on a copy of a DataFrame or Series through chained assignment using an inplace method.\n",
      "The behavior will change in pandas 3.0. This inplace method will never work because the intermediate object on which we are setting values always behaves as a copy.\n",
      "\n",
      "For example, when doing 'df[col].method(value, inplace=True)', try using 'df.method({col: value}, inplace=True)' or df[col] = df[col].method(value) instead, to perform the operation inplace on the original object.\n",
      "\n",
      "\n",
      "  df['Sales Volume'].fillna(df['Sales Volume'].mean(), inplace=True)\n"
     ]
    }
   ],
   "source": [
    "df['Sales Volume'].fillna(df['Sales Volume'].mean(), inplace=True)"
   ]
  },
  {
   "cell_type": "code",
   "execution_count": 12,
   "metadata": {},
   "outputs": [],
   "source": [
    "df = df.dropna()"
   ]
  },
  {
   "cell_type": "markdown",
   "metadata": {},
   "source": [
    "Handle Duplicate Data"
   ]
  },
  {
   "cell_type": "code",
   "execution_count": 13,
   "metadata": {},
   "outputs": [],
   "source": [
    "df = df.drop_duplicates()"
   ]
  },
  {
   "cell_type": "markdown",
   "metadata": {},
   "source": [
    "Convert Data Types"
   ]
  },
  {
   "cell_type": "code",
   "execution_count": 14,
   "metadata": {},
   "outputs": [],
   "source": [
    "df['scraped_at'] = pd.to_datetime(df['scraped_at'], errors='coerce')"
   ]
  },
  {
   "cell_type": "code",
   "execution_count": 15,
   "metadata": {},
   "outputs": [
    {
     "name": "stdout",
     "output_type": "stream",
     "text": [
      "   Product ID Product Category  Sales Volume                  name   price  \\\n",
      "0      185102         Clothing          2823   BASIC PUFFER JACKET   19.99   \n",
      "1      188771         Clothing           654         TUXEDO JACKET  169.00   \n",
      "2      180176         Clothing          2220  SLIM FIT SUIT JACKET  129.00   \n",
      "3      112917         Clothing          1568   STRETCH SUIT JACKET  129.00   \n",
      "4      192936         Clothing          2942   DOUBLE FACED JACKET  139.00   \n",
      "\n",
      "  currency                 scraped_at section  \n",
      "0      USD 2024-02-19 08:50:05.654618     MAN  \n",
      "1      USD 2024-02-19 08:50:06.590930     MAN  \n",
      "2      USD 2024-02-19 08:50:07.301419     MAN  \n",
      "3      USD 2024-02-19 08:50:07.882922     MAN  \n",
      "4      USD 2024-02-19 08:50:08.453847     MAN  \n"
     ]
    }
   ],
   "source": [
    "print(df.head())"
   ]
  },
  {
   "cell_type": "code",
   "execution_count": 16,
   "metadata": {},
   "outputs": [
    {
     "name": "stdout",
     "output_type": "stream",
     "text": [
      "   Product ID Product Category  Sales Volume                  name   price  \\\n",
      "0      185102         Clothing          2823   BASIC PUFFER JACKET   19.99   \n",
      "1      188771         Clothing           654         TUXEDO JACKET  169.00   \n",
      "2      180176         Clothing          2220  SLIM FIT SUIT JACKET  129.00   \n",
      "3      112917         Clothing          1568   STRETCH SUIT JACKET  129.00   \n",
      "4      192936         Clothing          2942   DOUBLE FACED JACKET  139.00   \n",
      "\n",
      "  currency                 scraped_at section  \n",
      "0      USD 2024-02-19 08:50:05.654618     MAN  \n",
      "1      USD 2024-02-19 08:50:06.590930     MAN  \n",
      "2      USD 2024-02-19 08:50:07.301419     MAN  \n",
      "3      USD 2024-02-19 08:50:07.882922     MAN  \n",
      "4      USD 2024-02-19 08:50:08.453847     MAN  \n"
     ]
    }
   ],
   "source": [
    "print(df.head())"
   ]
  },
  {
   "cell_type": "code",
   "execution_count": 17,
   "metadata": {},
   "outputs": [
    {
     "name": "stdout",
     "output_type": "stream",
     "text": [
      "<class 'pandas.core.frame.DataFrame'>\n",
      "Index: 251 entries, 0 to 251\n",
      "Data columns (total 8 columns):\n",
      " #   Column            Non-Null Count  Dtype         \n",
      "---  ------            --------------  -----         \n",
      " 0   Product ID        251 non-null    int64         \n",
      " 1   Product Category  251 non-null    object        \n",
      " 2   Sales Volume      251 non-null    int64         \n",
      " 3   name              251 non-null    object        \n",
      " 4   price             251 non-null    float64       \n",
      " 5   currency          251 non-null    object        \n",
      " 6   scraped_at        251 non-null    datetime64[ns]\n",
      " 7   section           251 non-null    object        \n",
      "dtypes: datetime64[ns](1), float64(1), int64(2), object(4)\n",
      "memory usage: 17.6+ KB\n",
      "None\n"
     ]
    }
   ],
   "source": [
    "print(df.info())"
   ]
  },
  {
   "cell_type": "code",
   "execution_count": 18,
   "metadata": {},
   "outputs": [],
   "source": [
    "df = df.rename(columns={\n",
    "    'Product ID': 'Product_ID',\n",
    "    'Product Category': 'Product_Category',\n",
    "    'Sales Volume': 'Sales_Volume',\n",
    "    'name': 'Product_Name',\n",
    "    'price': 'Product_Price',\n",
    "    'currency': 'Currency_Type',\n",
    "    'scraped_at': 'Sales_Date',\n",
    "    'section': 'Store_Location',\n",
    "\n",
    "\n",
    "})"
   ]
  },
  {
   "cell_type": "code",
   "execution_count": 22,
   "metadata": {},
   "outputs": [
    {
     "name": "stdout",
     "output_type": "stream",
     "text": [
      "<class 'pandas.core.frame.DataFrame'>\n",
      "Index: 251 entries, 0 to 251\n",
      "Data columns (total 8 columns):\n",
      " #   Column            Non-Null Count  Dtype         \n",
      "---  ------            --------------  -----         \n",
      " 0   Product_ID        251 non-null    int64         \n",
      " 1   Product_Category  251 non-null    object        \n",
      " 2   Sales_Volume      251 non-null    int64         \n",
      " 3   Product_Name      251 non-null    object        \n",
      " 4   Product_Price     251 non-null    float64       \n",
      " 5   Currency_Type     251 non-null    object        \n",
      " 6   Sales_Date        251 non-null    datetime64[ns]\n",
      " 7   Store_Location    251 non-null    object        \n",
      "dtypes: datetime64[ns](1), float64(1), int64(2), object(4)\n",
      "memory usage: 17.6+ KB\n",
      "None\n"
     ]
    }
   ],
   "source": [
    "print(df.info())"
   ]
  },
  {
   "cell_type": "code",
   "execution_count": 26,
   "metadata": {},
   "outputs": [],
   "source": [
    "df = df[['Product_ID','Product_Name','Product_Category','Product_Price','Currency_Type','Sales_Volume','Sales_Date','Store_Location']]"
   ]
  },
  {
   "cell_type": "code",
   "execution_count": 30,
   "metadata": {},
   "outputs": [
    {
     "name": "stdout",
     "output_type": "stream",
     "text": [
      "Index(['Product_ID', 'Product_Name', 'Product_Category', 'Product_Price',\n",
      "       'Currency_Type', 'Sales_Volume', 'Sales_Date', 'Store_Location'],\n",
      "      dtype='object')\n"
     ]
    }
   ],
   "source": [
    "print(df.columns)"
   ]
  },
  {
   "cell_type": "markdown",
   "metadata": {},
   "source": [
    "Import Libraries"
   ]
  },
  {
   "cell_type": "code",
   "execution_count": 4,
   "metadata": {},
   "outputs": [],
   "source": [
    "\n",
    "from sqlalchemy import create_engine\n",
    "\n",
    "import pymysql"
   ]
  },
  {
   "cell_type": "markdown",
   "metadata": {},
   "source": [
    "Create MySQL Connection"
   ]
  },
  {
   "cell_type": "code",
   "execution_count": 5,
   "metadata": {},
   "outputs": [],
   "source": [
    "DATABASE_CONFIG = {\n",
    "    'user': 'root',\n",
    "    'password': 'Nipuni1234prabo',\n",
    "    'host': 'localhost',\n",
    "    'port': 3306,\n",
    "    'database': 'zara_sales_db'\n",
    "}"
   ]
  },
  {
   "cell_type": "code",
   "execution_count": 6,
   "metadata": {},
   "outputs": [],
   "source": [
    "engine = create_engine(f\"mysql+pymysql://{DATABASE_CONFIG['user']}:{DATABASE_CONFIG['password']}@{DATABASE_CONFIG['host']}:{DATABASE_CONFIG['port']}/{DATABASE_CONFIG['database']}\")"
   ]
  },
  {
   "cell_type": "code",
   "execution_count": 7,
   "metadata": {},
   "outputs": [],
   "source": [
    "connection_string = \"mysql://root@localhost/zara_sales_db\""
   ]
  },
  {
   "cell_type": "code",
   "execution_count": 8,
   "metadata": {},
   "outputs": [
    {
     "name": "stdout",
     "output_type": "stream",
     "text": [
      "Connection successful!\n"
     ]
    }
   ],
   "source": [
    "connection = engine.connect()\n",
    "print(\"Connection successful!\")\n",
    "connection.close()"
   ]
  },
  {
   "cell_type": "code",
   "execution_count": null,
   "metadata": {},
   "outputs": [],
   "source": []
  }
 ],
 "metadata": {
  "kernelspec": {
   "display_name": "etl_jupyter_notebook",
   "language": "python",
   "name": "python3"
  },
  "language_info": {
   "codemirror_mode": {
    "name": "ipython",
    "version": 3
   },
   "file_extension": ".py",
   "mimetype": "text/x-python",
   "name": "python",
   "nbconvert_exporter": "python",
   "pygments_lexer": "ipython3",
   "version": "3.12.7"
  }
 },
 "nbformat": 4,
 "nbformat_minor": 2
}
