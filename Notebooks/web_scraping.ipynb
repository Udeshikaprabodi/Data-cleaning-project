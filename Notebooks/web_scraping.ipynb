{
 "cells": [
  {
   "cell_type": "markdown",
   "metadata": {},
   "source": [
    "Import Libraries"
   ]
  },
  {
   "cell_type": "code",
   "execution_count": 147,
   "metadata": {},
   "outputs": [],
   "source": [
    "import requests\n",
    "from bs4 import BeautifulSoup\n",
    "import pandas as pd\n",
    "from sqlalchemy import create_engine\n"
   ]
  },
  {
   "cell_type": "markdown",
   "metadata": {},
   "source": [
    " Extract Data Function\n"
   ]
  },
  {
   "cell_type": "code",
   "execution_count": 149,
   "metadata": {},
   "outputs": [],
   "source": [
    "def extract_data(url):\n",
    "    headers = {\n",
    "        \"User-Agent\": (\n",
    "            \"Mozilla/5.0 (Windows NT 10.0; Win64; x64) AppleWebKit/537.36 (KHTML, like Gecko) \"\n",
    "            \"Chrome/114.0.0.0 Safari/537.36\"\n",
    "        ),\n",
    "        \"Accept-Language\": \"en-US,en;q=0.9\",\n",
    "    }\n",
    "    try:\n",
    "        response = requests.get(url, headers=headers, timeout=10)\n",
    "        response.raise_for_status()\n",
    "        soup = BeautifulSoup(response.content, \"html.parser\")\n",
    "        print(\"Successfully connected to the website!\")\n",
    "        return soup\n",
    "    except requests.exceptions.RequestException as e:\n",
    "        print(f\"Error fetching data: {e}\")\n",
    "        return None"
   ]
  },
  {
   "cell_type": "markdown",
   "metadata": {},
   "source": [
    "Parse Data Function"
   ]
  },
  {
   "cell_type": "code",
   "execution_count": 155,
   "metadata": {},
   "outputs": [],
   "source": [
    "def parse_data(soup):\n",
    "    if not soup:\n",
    "        print(\"No data to parse.\")\n",
    "        return []\n",
    "\n",
    "    products = []\n",
    "    items = soup.find_all('li', class_='wt-list-unstyled') \n",
    "    for item in items:\n",
    "        try:\n",
    "            name = item.find('h3', class_='wt-text-caption').text.strip()\n",
    "            price = item.find('span', class_='currency-value').text.strip()\n",
    "            description = item.find('p', class_='wt-text-caption').text.strip() if item.find('p') else \"\"\n",
    "            products.append({\"Name\": name, \"Price\": price, \"Description\": description})\n",
    "        except AttributeError:\n",
    "            continue\n",
    "\n",
    "    print(f\"Extracted {len(products)} products.\")\n",
    "    return products"
   ]
  },
  {
   "cell_type": "markdown",
   "metadata": {},
   "source": [
    "Clean the Data"
   ]
  },
  {
   "cell_type": "code",
   "execution_count": 156,
   "metadata": {},
   "outputs": [],
   "source": [
    "def clean_data(raw_data):\n",
    "    if not raw_data:\n",
    "        print(\"No data to clean.\")\n",
    "        return pd.DataFrame()\n",
    "\n",
    "    df = pd.DataFrame(raw_data)\n",
    "    try:\n",
    "        df['Price'] = df['Price'].str.replace(',', '').astype(float, errors='ignore')\n",
    "        df.drop_duplicates(inplace=True)\n",
    "        df.dropna(inplace=True)\n",
    "    except Exception as e:\n",
    "        print(f\"Error cleaning data: {e}\")\n",
    "    return df"
   ]
  },
  {
   "cell_type": "markdown",
   "metadata": {},
   "source": [
    "Load Data to MySQL"
   ]
  },
  {
   "cell_type": "code",
   "execution_count": 157,
   "metadata": {},
   "outputs": [],
   "source": [
    "def load_data_to_mysql(cleaned_data, db_connection_string, table_name):\n",
    "    if cleaned_data.empty:\n",
    "        print(\"No data to load into the database.\")\n",
    "        return\n",
    "\n",
    "    try:\n",
    "        engine = create_engine(db_connection_string)\n",
    "        cleaned_data.to_sql(table_name, engine, if_exists='replace', index=False)\n",
    "        print(f\"Data successfully loaded into table: {table_name}\")\n",
    "    except Exception as e:\n",
    "        print(f\"Error loading data: {e}\")"
   ]
  },
  {
   "cell_type": "markdown",
   "metadata": {},
   "source": [
    "Configuration and Main Script"
   ]
  },
  {
   "cell_type": "code",
   "execution_count": 158,
   "metadata": {},
   "outputs": [
    {
     "name": "stdout",
     "output_type": "stream",
     "text": [
      "Successfully connected to the website!\n",
      "Extracted 64 products.\n",
      "Data successfully loaded into table: web_scraping_data\n"
     ]
    }
   ],
   "source": [
    "url = \"https://www.etsy.com/c/clothing-and-shoes\"\n",
    "DATABASE_CONFIG = {\n",
    "    'user': 'root',\n",
    "    'password': 'Nipuni1234prabo',\n",
    "    'host': 'localhost',\n",
    "    'port': 3306,\n",
    "    'database': 'zara_sales_db'\n",
    "}\n",
    "DB_CONNECTION_STRING = (\n",
    "    f\"mysql+pymysql://{DATABASE_CONFIG['user']}:{DATABASE_CONFIG['password']}@{DATABASE_CONFIG['host']}:{DATABASE_CONFIG['port']}/{DATABASE_CONFIG['database']}\"\n",
    ")\n",
    "table_name = 'web_scraping_data'\n",
    "\n",
    "# Main Script\n",
    "soup = extract_data(url)\n",
    "raw_data = parse_data(soup)\n",
    "cleaned_data = clean_data(raw_data)\n",
    "load_data_to_mysql(cleaned_data, DB_CONNECTION_STRING, table_name)"
   ]
  }
 ],
 "metadata": {
  "kernelspec": {
   "display_name": "etl_jupyter_notebook",
   "language": "python",
   "name": "python3"
  },
  "language_info": {
   "codemirror_mode": {
    "name": "ipython",
    "version": 3
   },
   "file_extension": ".py",
   "mimetype": "text/x-python",
   "name": "python",
   "nbconvert_exporter": "python",
   "pygments_lexer": "ipython3",
   "version": "3.12.7"
  }
 },
 "nbformat": 4,
 "nbformat_minor": 2
}
